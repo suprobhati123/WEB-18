{
 "cells": [
  {
   "cell_type": "markdown",
   "metadata": {},
   "source": [
    "IMPORT THE TEST AND TRAIN DATA"
   ]
  },
  {
   "cell_type": "code",
   "execution_count": 1,
   "metadata": {},
   "outputs": [
    {
     "name": "stdout",
     "output_type": "stream",
     "text": [
      "                       Qualification           Experience Rating  \\\n",
      "0              BHMS, MD - Homeopathy  24 years experience   100%   \n",
      "1       BAMS, MD - Ayurveda Medicine  12 years experience    98%   \n",
      "2     MBBS, MS - Otorhinolaryngology   9 years experience    NaN   \n",
      "3                BSc - Zoology, BAMS  12 years experience    NaN   \n",
      "4                               BAMS  20 years experience   100%   \n",
      "...                              ...                  ...    ...   \n",
      "5956                  MBBS, MS - ENT  19 years experience    98%   \n",
      "5957                            MBBS  33 years experience    NaN   \n",
      "5958                            MBBS  41 years experience    97%   \n",
      "5959     MBBS, MD - General Medicine  15 years experience    90%   \n",
      "5960         BDS, MDS - Orthodontics  17 years experience   100%   \n",
      "\n",
      "                              Place           Profile  \\\n",
      "0               Kakkanad, Ernakulam         Homeopath   \n",
      "1             Whitefield, Bangalore          Ayurveda   \n",
      "2        Mathikere - BEL, Bangalore    ENT Specialist   \n",
      "3      Bannerghatta Road, Bangalore          Ayurveda   \n",
      "4             Keelkattalai, Chennai          Ayurveda   \n",
      "...                             ...               ...   \n",
      "5956        Basavanagudi, Bangalore    ENT Specialist   \n",
      "5957          Nungambakkam, Chennai  General Medicine   \n",
      "5958  Greater Kailash Part 2, Delhi  General Medicine   \n",
      "5959         Vileparle West, Mumbai  General Medicine   \n",
      "5960               Pitampura, Delhi           Dentist   \n",
      "\n",
      "                                     Miscellaneous_Info  Fees  \n",
      "0                  100% 16 Feedback Kakkanad, Ernakulam   100  \n",
      "1                 98% 76 Feedback Whitefield, Bangalore   350  \n",
      "2                                                   NaN   300  \n",
      "3     Bannerghatta Road, Bangalore ?250 Available on...   250  \n",
      "4                 100% 4 Feedback Keelkattalai, Chennai   250  \n",
      "...                                                 ...   ...  \n",
      "5956            98% 45 Feedback Basavanagudi, Bangalore   300  \n",
      "5957                                                NaN   100  \n",
      "5958      97% 11 Feedback Greater Kailash Part 2, Delhi   600  \n",
      "5959  General Medical Consultation Viral Fever Treat...   100  \n",
      "5960  Acrylic Partial Denture Crowns and Bridges Fix...   200  \n",
      "\n",
      "[5961 rows x 7 columns]\n"
     ]
    }
   ],
   "source": [
    "import pandas as pd\n",
    "df_Train=pd.read_csv(\"Final_Train.csv\")\n",
    "print (df_Train)"
   ]
  },
  {
   "cell_type": "code",
   "execution_count": 2,
   "metadata": {},
   "outputs": [
    {
     "name": "stdout",
     "output_type": "stream",
     "text": [
      "                                        Qualification           Experience  \\\n",
      "0                                                MBBS  35 years experience   \n",
      "1          MBBS, Diploma in Otorhinolaryngology (DLO)  31 years experience   \n",
      "2                                          MBBS, DDVL  40 years experience   \n",
      "3                                                BAMS   0 years experience   \n",
      "4     BDS, MDS - Conservative Dentistry & Endodontics  16 years experience   \n",
      "...                                               ...                  ...   \n",
      "1982                         BAMS, Doctor of Medicine  10 years experience   \n",
      "1983   MD - Dermatology , Venereology & Leprosy, MBBS   4 years experience   \n",
      "1984         MBBS, MD / MS - Obstetrics & Gynaecology   9 years experience   \n",
      "1985                                              BDS  12 years experience   \n",
      "1986   MBBS, MD - Dermatology , Venereology & Leprosy   8 years experience   \n",
      "\n",
      "     Rating                        Place           Profile  \\\n",
      "0       NaN       Ghatkopar East, Mumbai  General Medicine   \n",
      "1       NaN  West Marredpally, Hyderabad    ENT Specialist   \n",
      "2       70%            KK Nagar, Chennai    Dermatologists   \n",
      "3       NaN       New Ashok Nagar, Delhi          Ayurveda   \n",
      "4      100%    Kanakpura Road, Bangalore           Dentist   \n",
      "...     ...                          ...               ...   \n",
      "1982    NaN      Basavanagudi, Bangalore          Ayurveda   \n",
      "1983    NaN             Choolai, Chennai    Dermatologists   \n",
      "1984    NaN               Porur, Chennai  General Medicine   \n",
      "1985    98%           Arekere, Bangalore           Dentist   \n",
      "1986    NaN        Pallikaranai, Chennai    Dermatologists   \n",
      "\n",
      "                                     Miscellaneous_Info  \n",
      "0                                                   NaN  \n",
      "1                                                   NaN  \n",
      "2                      70% 4 Feedback KK Nagar, Chennai  \n",
      "3                                                   NaN  \n",
      "4     General Dentistry Conservative Dentistry Cosme...  \n",
      "...                                                 ...  \n",
      "1982                                                NaN  \n",
      "1983                                                NaN  \n",
      "1984                                                NaN  \n",
      "1985  RCT - Root Canal Treatment Root Canal Treatmen...  \n",
      "1986              1 Feedback Pallikaranai, Chennai ?500  \n",
      "\n",
      "[1987 rows x 6 columns]\n"
     ]
    }
   ],
   "source": [
    "import pandas as pd\n",
    "df_Test=pd.read_csv(\"Final_test.csv\")\n",
    "print (df_Test)"
   ]
  },
  {
   "cell_type": "markdown",
   "metadata": {},
   "source": [
    "COMBINING TEST AND TRAIN DATA"
   ]
  },
  {
   "cell_type": "code",
   "execution_count": 4,
   "metadata": {},
   "outputs": [],
   "source": [
    "df_Final=df_Train.append(df_Test,sort=False)"
   ]
  },
  {
   "cell_type": "code",
   "execution_count": 5,
   "metadata": {},
   "outputs": [
    {
     "data": {
      "text/html": [
       "<div>\n",
       "<style scoped>\n",
       "    .dataframe tbody tr th:only-of-type {\n",
       "        vertical-align: middle;\n",
       "    }\n",
       "\n",
       "    .dataframe tbody tr th {\n",
       "        vertical-align: top;\n",
       "    }\n",
       "\n",
       "    .dataframe thead th {\n",
       "        text-align: right;\n",
       "    }\n",
       "</style>\n",
       "<table border=\"1\" class=\"dataframe\">\n",
       "  <thead>\n",
       "    <tr style=\"text-align: right;\">\n",
       "      <th></th>\n",
       "      <th>Qualification</th>\n",
       "      <th>Experience</th>\n",
       "      <th>Rating</th>\n",
       "      <th>Place</th>\n",
       "      <th>Profile</th>\n",
       "      <th>Miscellaneous_Info</th>\n",
       "      <th>Fees</th>\n",
       "    </tr>\n",
       "  </thead>\n",
       "  <tbody>\n",
       "    <tr>\n",
       "      <th>0</th>\n",
       "      <td>BHMS, MD - Homeopathy</td>\n",
       "      <td>24 years experience</td>\n",
       "      <td>100%</td>\n",
       "      <td>Kakkanad, Ernakulam</td>\n",
       "      <td>Homeopath</td>\n",
       "      <td>100% 16 Feedback Kakkanad, Ernakulam</td>\n",
       "      <td>100.0</td>\n",
       "    </tr>\n",
       "    <tr>\n",
       "      <th>1</th>\n",
       "      <td>BAMS, MD - Ayurveda Medicine</td>\n",
       "      <td>12 years experience</td>\n",
       "      <td>98%</td>\n",
       "      <td>Whitefield, Bangalore</td>\n",
       "      <td>Ayurveda</td>\n",
       "      <td>98% 76 Feedback Whitefield, Bangalore</td>\n",
       "      <td>350.0</td>\n",
       "    </tr>\n",
       "    <tr>\n",
       "      <th>2</th>\n",
       "      <td>MBBS, MS - Otorhinolaryngology</td>\n",
       "      <td>9 years experience</td>\n",
       "      <td>NaN</td>\n",
       "      <td>Mathikere - BEL, Bangalore</td>\n",
       "      <td>ENT Specialist</td>\n",
       "      <td>NaN</td>\n",
       "      <td>300.0</td>\n",
       "    </tr>\n",
       "    <tr>\n",
       "      <th>3</th>\n",
       "      <td>BSc - Zoology, BAMS</td>\n",
       "      <td>12 years experience</td>\n",
       "      <td>NaN</td>\n",
       "      <td>Bannerghatta Road, Bangalore</td>\n",
       "      <td>Ayurveda</td>\n",
       "      <td>Bannerghatta Road, Bangalore ?250 Available on...</td>\n",
       "      <td>250.0</td>\n",
       "    </tr>\n",
       "    <tr>\n",
       "      <th>4</th>\n",
       "      <td>BAMS</td>\n",
       "      <td>20 years experience</td>\n",
       "      <td>100%</td>\n",
       "      <td>Keelkattalai, Chennai</td>\n",
       "      <td>Ayurveda</td>\n",
       "      <td>100% 4 Feedback Keelkattalai, Chennai</td>\n",
       "      <td>250.0</td>\n",
       "    </tr>\n",
       "    <tr>\n",
       "      <th>5</th>\n",
       "      <td>BAMS</td>\n",
       "      <td>8 years experience</td>\n",
       "      <td>NaN</td>\n",
       "      <td>Porur, Chennai</td>\n",
       "      <td>Ayurveda</td>\n",
       "      <td>NaN</td>\n",
       "      <td>100.0</td>\n",
       "    </tr>\n",
       "    <tr>\n",
       "      <th>6</th>\n",
       "      <td>BHMS</td>\n",
       "      <td>42 years experience</td>\n",
       "      <td>NaN</td>\n",
       "      <td>Karol Bagh, Delhi</td>\n",
       "      <td>Homeopath</td>\n",
       "      <td>NaN</td>\n",
       "      <td>200.0</td>\n",
       "    </tr>\n",
       "    <tr>\n",
       "      <th>7</th>\n",
       "      <td>BDS</td>\n",
       "      <td>10 years experience</td>\n",
       "      <td>99%</td>\n",
       "      <td>Arekere, Bangalore</td>\n",
       "      <td>Dentist</td>\n",
       "      <td>Dental Fillings Crowns and Bridges Fixing Impa...</td>\n",
       "      <td>200.0</td>\n",
       "    </tr>\n",
       "    <tr>\n",
       "      <th>8</th>\n",
       "      <td>MBBS, MD - General Medicine</td>\n",
       "      <td>14 years experience</td>\n",
       "      <td>NaN</td>\n",
       "      <td>Old City, Hyderabad</td>\n",
       "      <td>General Medicine</td>\n",
       "      <td>NaN</td>\n",
       "      <td>100.0</td>\n",
       "    </tr>\n",
       "    <tr>\n",
       "      <th>9</th>\n",
       "      <td>BSc, BDS</td>\n",
       "      <td>23 years experience</td>\n",
       "      <td>NaN</td>\n",
       "      <td>Athani, Ernakulam</td>\n",
       "      <td>Dentist</td>\n",
       "      <td>NaN</td>\n",
       "      <td>100.0</td>\n",
       "    </tr>\n",
       "  </tbody>\n",
       "</table>\n",
       "</div>"
      ],
      "text/plain": [
       "                    Qualification           Experience Rating  \\\n",
       "0           BHMS, MD - Homeopathy  24 years experience   100%   \n",
       "1    BAMS, MD - Ayurveda Medicine  12 years experience    98%   \n",
       "2  MBBS, MS - Otorhinolaryngology   9 years experience    NaN   \n",
       "3             BSc - Zoology, BAMS  12 years experience    NaN   \n",
       "4                            BAMS  20 years experience   100%   \n",
       "5                            BAMS   8 years experience    NaN   \n",
       "6                            BHMS  42 years experience    NaN   \n",
       "7                             BDS  10 years experience    99%   \n",
       "8     MBBS, MD - General Medicine  14 years experience    NaN   \n",
       "9                        BSc, BDS  23 years experience    NaN   \n",
       "\n",
       "                          Place           Profile  \\\n",
       "0           Kakkanad, Ernakulam         Homeopath   \n",
       "1         Whitefield, Bangalore          Ayurveda   \n",
       "2    Mathikere - BEL, Bangalore    ENT Specialist   \n",
       "3  Bannerghatta Road, Bangalore          Ayurveda   \n",
       "4         Keelkattalai, Chennai          Ayurveda   \n",
       "5                Porur, Chennai          Ayurveda   \n",
       "6             Karol Bagh, Delhi         Homeopath   \n",
       "7            Arekere, Bangalore           Dentist   \n",
       "8           Old City, Hyderabad  General Medicine   \n",
       "9             Athani, Ernakulam           Dentist   \n",
       "\n",
       "                                  Miscellaneous_Info   Fees  \n",
       "0               100% 16 Feedback Kakkanad, Ernakulam  100.0  \n",
       "1              98% 76 Feedback Whitefield, Bangalore  350.0  \n",
       "2                                                NaN  300.0  \n",
       "3  Bannerghatta Road, Bangalore ?250 Available on...  250.0  \n",
       "4              100% 4 Feedback Keelkattalai, Chennai  250.0  \n",
       "5                                                NaN  100.0  \n",
       "6                                                NaN  200.0  \n",
       "7  Dental Fillings Crowns and Bridges Fixing Impa...  200.0  \n",
       "8                                                NaN  100.0  \n",
       "9                                                NaN  100.0  "
      ]
     },
     "execution_count": 5,
     "metadata": {},
     "output_type": "execute_result"
    }
   ],
   "source": [
    "df_Final.head(10)"
   ]
  },
  {
   "cell_type": "markdown",
   "metadata": {},
   "source": [
    "EXTRACTING QUALIFICATION COLUMNS"
   ]
  },
  {
   "cell_type": "code",
   "execution_count": 6,
   "metadata": {},
   "outputs": [
    {
     "name": "stderr",
     "output_type": "stream",
     "text": [
      "C:\\Users\\Asus\\anaconda3\\lib\\site-packages\\pandas\\core\\strings.py:1952: UserWarning: This pattern has match groups. To actually get the groups, use str.extract.\n",
      "  return func(self, *args, **kwargs)\n"
     ]
    }
   ],
   "source": [
    "import numpy as np\n",
    "x=np.where(df_Final.Qualification.str.contains('(MBBS|BDS|MD|MS|LCEH|DDVL|BAMS|BSAM|BHMS|DHMS|DNB|Get inspired)')==False)"
   ]
  },
  {
   "cell_type": "code",
   "execution_count": 7,
   "metadata": {},
   "outputs": [
    {
     "name": "stdout",
     "output_type": "stream",
     "text": [
      "104     PhD - Orthodontics & Dentofacial Orthopaedics,...\n",
      "224                                                  GCEH\n",
      "753                                   39 years experience\n",
      "829     Diplomate of National Board Exam, Diploma in O...\n",
      "1030                 Diploma in Otorhinolaryngology (DLO)\n",
      "1064              GCEH, Certificate in Child Health (CCH)\n",
      "1265                               Diploma in Dermatology\n",
      "1297                                              G.A.M.S\n",
      "2005                                              G.A.M.S\n",
      "2035    Fellowship in Oral implantlogy, Certified Adva...\n",
      "2975                                           M.D. (E.H)\n",
      "4503                                                  DDV\n",
      "4757    Diploma in Otorhinolaryngology (DLO), Diploma ...\n",
      "5182                                              G.A.M.S\n",
      "443                                FRCS - General Surgery\n",
      "471                                            FWFO, FPFA\n",
      "1139                               Diploma in Dermatology\n",
      "1159                  Diploma in Ayurvedic Medicine (DAM)\n",
      "1573                                                 FICD\n",
      "Name: Qualification, dtype: object\n"
     ]
    }
   ],
   "source": [
    "for i in x:\n",
    "    print(df_Final.iloc[i,:].Qualification)"
   ]
  },
  {
   "cell_type": "code",
   "execution_count": 8,
   "metadata": {},
   "outputs": [],
   "source": [
    "df_Final['MBBS']=df_Final.Qualification.str.extract('(MBBS)')\n",
    "df_Final['BDS']=df_Final.Qualification.str.extract('(BDS)')\n",
    "df_Final['MD']=df_Final.Qualification.str.extract('(MD)')\n",
    "df_Final['MS']=df_Final.Qualification.str.extract('(MS)')\n",
    "df_Final['LCEH']=df_Final.Qualification.str.extract('(LCEH)')\n",
    "df_Final['DDVL']=df_Final.Qualification.str.extract('(DDVL)')\n",
    "df_Final['BAMS']=df_Final.Qualification.str.extract('(BAMS)')\n",
    "df_Final['BSAM']=df_Final.Qualification.str.extract('(BSAM)')\n",
    "df_Final['BHMS']=df_Final.Qualification.str.extract('(BHMS)')\n",
    "df_Final['DHMS']=df_Final.Qualification.str.extract('(DHMS)')\n",
    "df_Final['DNB']=df_Final.Qualification.str.extract('(DNB)')\n",
    "df_Final['Get']=df_Final.Qualification.str.extract('(Get inspired)')"
   ]
  },
  {
   "cell_type": "markdown",
   "metadata": {},
   "source": [
    "CHECKING NULL VALUES"
   ]
  },
  {
   "cell_type": "code",
   "execution_count": 9,
   "metadata": {},
   "outputs": [
    {
     "data": {
      "text/plain": [
       "Qualification            0\n",
       "Experience               0\n",
       "Rating                4392\n",
       "Place                   31\n",
       "Profile                  0\n",
       "Miscellaneous_Info    3454\n",
       "Fees                  1987\n",
       "MBBS                  4164\n",
       "BDS                   6158\n",
       "MD                    4875\n",
       "MS                    5067\n",
       "LCEH                  7926\n",
       "DDVL                  7720\n",
       "BAMS                  6943\n",
       "BSAM                  7938\n",
       "BHMS                  6952\n",
       "DHMS                  7883\n",
       "DNB                   7386\n",
       "Get                   7918\n",
       "dtype: int64"
      ]
     },
     "execution_count": 9,
     "metadata": {},
     "output_type": "execute_result"
    }
   ],
   "source": [
    "df_Final.isnull().sum()"
   ]
  },
  {
   "cell_type": "code",
   "execution_count": 10,
   "metadata": {},
   "outputs": [],
   "source": [
    "df_Final['Rating'].fillna('0%',inplace = True)"
   ]
  },
  {
   "cell_type": "code",
   "execution_count": 11,
   "metadata": {},
   "outputs": [],
   "source": [
    "df_Final['Rating'] = df_Final['Rating'].str.slice(stop=-1).astype(int)"
   ]
  },
  {
   "cell_type": "markdown",
   "metadata": {},
   "source": [
    "DROPPING QUALIFICATION AND MISSLENEOUS INFO COLUMN"
   ]
  },
  {
   "cell_type": "code",
   "execution_count": 12,
   "metadata": {},
   "outputs": [],
   "source": [
    "df_Final=df_Final.drop(['Qualification'],axis=1)\n",
    "df_Final=df_Final.drop(['Miscellaneous_Info'],axis=1)"
   ]
  },
  {
   "cell_type": "code",
   "execution_count": 13,
   "metadata": {},
   "outputs": [],
   "source": [
    "df_Final['Place']=df_Final['Place'].fillna('no city')\n",
    "df_Final['Fees'].fillna((df_Final['Fees'].mean()),inplace=True)\n",
    "df_Final['MBBS']=df_Final['MBBS'].fillna('none')\n",
    "df_Final['BDS']=df_Final['BDS'].fillna('none')\n",
    "df_Final['MD']=df_Final['MD'].fillna('none')\n",
    "\n",
    "df_Final['MS']=df_Final['MS'].fillna('none')\n",
    "\n",
    "df_Final['LCEH']=df_Final['LCEH'].fillna('none')\n",
    "df_Final['DDVL']=df_Final['DDVL'].fillna('none')\n",
    "df_Final['BAMS']=df_Final['BAMS'].fillna('none')\n",
    "df_Final['BSAM']=df_Final['BSAM'].fillna('none')\n",
    "df_Final['BHMS']=df_Final['BHMS'].fillna('none')\n",
    "\n",
    "df_Final['DHMS']=df_Final['DHMS'].fillna('none')\n",
    "df_Final['DNB']=df_Final['DNB'].fillna('none')\n",
    "\n",
    "df_Final['Get']=df_Final['Get'].fillna('none')"
   ]
  },
  {
   "cell_type": "code",
   "execution_count": 14,
   "metadata": {},
   "outputs": [
    {
     "data": {
      "text/plain": [
       "Experience    0\n",
       "Rating        0\n",
       "Place         0\n",
       "Profile       0\n",
       "Fees          0\n",
       "MBBS          0\n",
       "BDS           0\n",
       "MD            0\n",
       "MS            0\n",
       "LCEH          0\n",
       "DDVL          0\n",
       "BAMS          0\n",
       "BSAM          0\n",
       "BHMS          0\n",
       "DHMS          0\n",
       "DNB           0\n",
       "Get           0\n",
       "dtype: int64"
      ]
     },
     "execution_count": 14,
     "metadata": {},
     "output_type": "execute_result"
    }
   ],
   "source": [
    "df_Final.isnull().sum()"
   ]
  },
  {
   "cell_type": "code",
   "execution_count": 15,
   "metadata": {},
   "outputs": [
    {
     "data": {
      "text/plain": [
       "Index(['Experience', 'Rating', 'Place', 'Profile', 'Fees', 'MBBS', 'BDS', 'MD',\n",
       "       'MS', 'LCEH', 'DDVL', 'BAMS', 'BSAM', 'BHMS', 'DHMS', 'DNB', 'Get'],\n",
       "      dtype='object')"
      ]
     },
     "execution_count": 15,
     "metadata": {},
     "output_type": "execute_result"
    }
   ],
   "source": [
    "df_Final.columns"
   ]
  },
  {
   "cell_type": "code",
   "execution_count": 16,
   "metadata": {},
   "outputs": [
    {
     "data": {
      "text/html": [
       "<div>\n",
       "<style scoped>\n",
       "    .dataframe tbody tr th:only-of-type {\n",
       "        vertical-align: middle;\n",
       "    }\n",
       "\n",
       "    .dataframe tbody tr th {\n",
       "        vertical-align: top;\n",
       "    }\n",
       "\n",
       "    .dataframe thead th {\n",
       "        text-align: right;\n",
       "    }\n",
       "</style>\n",
       "<table border=\"1\" class=\"dataframe\">\n",
       "  <thead>\n",
       "    <tr style=\"text-align: right;\">\n",
       "      <th></th>\n",
       "      <th>Experience</th>\n",
       "      <th>Rating</th>\n",
       "      <th>Place</th>\n",
       "      <th>Profile</th>\n",
       "      <th>Fees</th>\n",
       "      <th>MBBS</th>\n",
       "      <th>BDS</th>\n",
       "      <th>MD</th>\n",
       "      <th>MS</th>\n",
       "      <th>LCEH</th>\n",
       "      <th>DDVL</th>\n",
       "      <th>BAMS</th>\n",
       "      <th>BSAM</th>\n",
       "      <th>BHMS</th>\n",
       "      <th>DHMS</th>\n",
       "      <th>DNB</th>\n",
       "      <th>Get</th>\n",
       "    </tr>\n",
       "  </thead>\n",
       "  <tbody>\n",
       "    <tr>\n",
       "      <th>0</th>\n",
       "      <td>24 years experience</td>\n",
       "      <td>100</td>\n",
       "      <td>Kakkanad, Ernakulam</td>\n",
       "      <td>Homeopath</td>\n",
       "      <td>100.0</td>\n",
       "      <td>none</td>\n",
       "      <td>none</td>\n",
       "      <td>MD</td>\n",
       "      <td>MS</td>\n",
       "      <td>none</td>\n",
       "      <td>none</td>\n",
       "      <td>none</td>\n",
       "      <td>none</td>\n",
       "      <td>BHMS</td>\n",
       "      <td>none</td>\n",
       "      <td>none</td>\n",
       "      <td>none</td>\n",
       "    </tr>\n",
       "    <tr>\n",
       "      <th>1</th>\n",
       "      <td>12 years experience</td>\n",
       "      <td>98</td>\n",
       "      <td>Whitefield, Bangalore</td>\n",
       "      <td>Ayurveda</td>\n",
       "      <td>350.0</td>\n",
       "      <td>none</td>\n",
       "      <td>none</td>\n",
       "      <td>MD</td>\n",
       "      <td>MS</td>\n",
       "      <td>none</td>\n",
       "      <td>none</td>\n",
       "      <td>BAMS</td>\n",
       "      <td>none</td>\n",
       "      <td>none</td>\n",
       "      <td>none</td>\n",
       "      <td>none</td>\n",
       "      <td>none</td>\n",
       "    </tr>\n",
       "    <tr>\n",
       "      <th>2</th>\n",
       "      <td>9 years experience</td>\n",
       "      <td>0</td>\n",
       "      <td>Mathikere - BEL, Bangalore</td>\n",
       "      <td>ENT Specialist</td>\n",
       "      <td>300.0</td>\n",
       "      <td>MBBS</td>\n",
       "      <td>none</td>\n",
       "      <td>none</td>\n",
       "      <td>MS</td>\n",
       "      <td>none</td>\n",
       "      <td>none</td>\n",
       "      <td>none</td>\n",
       "      <td>none</td>\n",
       "      <td>none</td>\n",
       "      <td>none</td>\n",
       "      <td>none</td>\n",
       "      <td>none</td>\n",
       "    </tr>\n",
       "    <tr>\n",
       "      <th>3</th>\n",
       "      <td>12 years experience</td>\n",
       "      <td>0</td>\n",
       "      <td>Bannerghatta Road, Bangalore</td>\n",
       "      <td>Ayurveda</td>\n",
       "      <td>250.0</td>\n",
       "      <td>none</td>\n",
       "      <td>none</td>\n",
       "      <td>none</td>\n",
       "      <td>MS</td>\n",
       "      <td>none</td>\n",
       "      <td>none</td>\n",
       "      <td>BAMS</td>\n",
       "      <td>none</td>\n",
       "      <td>none</td>\n",
       "      <td>none</td>\n",
       "      <td>none</td>\n",
       "      <td>none</td>\n",
       "    </tr>\n",
       "    <tr>\n",
       "      <th>4</th>\n",
       "      <td>20 years experience</td>\n",
       "      <td>100</td>\n",
       "      <td>Keelkattalai, Chennai</td>\n",
       "      <td>Ayurveda</td>\n",
       "      <td>250.0</td>\n",
       "      <td>none</td>\n",
       "      <td>none</td>\n",
       "      <td>none</td>\n",
       "      <td>MS</td>\n",
       "      <td>none</td>\n",
       "      <td>none</td>\n",
       "      <td>BAMS</td>\n",
       "      <td>none</td>\n",
       "      <td>none</td>\n",
       "      <td>none</td>\n",
       "      <td>none</td>\n",
       "      <td>none</td>\n",
       "    </tr>\n",
       "  </tbody>\n",
       "</table>\n",
       "</div>"
      ],
      "text/plain": [
       "            Experience  Rating                         Place         Profile  \\\n",
       "0  24 years experience     100           Kakkanad, Ernakulam       Homeopath   \n",
       "1  12 years experience      98         Whitefield, Bangalore        Ayurveda   \n",
       "2   9 years experience       0    Mathikere - BEL, Bangalore  ENT Specialist   \n",
       "3  12 years experience       0  Bannerghatta Road, Bangalore        Ayurveda   \n",
       "4  20 years experience     100         Keelkattalai, Chennai        Ayurveda   \n",
       "\n",
       "    Fees  MBBS   BDS    MD  MS  LCEH  DDVL  BAMS  BSAM  BHMS  DHMS   DNB   Get  \n",
       "0  100.0  none  none    MD  MS  none  none  none  none  BHMS  none  none  none  \n",
       "1  350.0  none  none    MD  MS  none  none  BAMS  none  none  none  none  none  \n",
       "2  300.0  MBBS  none  none  MS  none  none  none  none  none  none  none  none  \n",
       "3  250.0  none  none  none  MS  none  none  BAMS  none  none  none  none  none  \n",
       "4  250.0  none  none  none  MS  none  none  BAMS  none  none  none  none  none  "
      ]
     },
     "execution_count": 16,
     "metadata": {},
     "output_type": "execute_result"
    }
   ],
   "source": [
    "df_Final.head()"
   ]
  },
  {
   "cell_type": "markdown",
   "metadata": {},
   "source": [
    "PERFORMING SOME FEATURE ENGINEERING"
   ]
  },
  {
   "cell_type": "code",
   "execution_count": 17,
   "metadata": {},
   "outputs": [],
   "source": [
    "df_Final['Profile']=df_Final['Profile'].astype('category')"
   ]
  },
  {
   "cell_type": "code",
   "execution_count": 18,
   "metadata": {},
   "outputs": [],
   "source": [
    "df_Final['Experience1']=df_Final['Experience'].str.split('years experience').str[0]\n",
    "df_Final['Experience2']=df_Final['Experience'].str.split('years experience').str[1]"
   ]
  },
  {
   "cell_type": "code",
   "execution_count": 19,
   "metadata": {},
   "outputs": [],
   "source": [
    "df_Final=df_Final.drop(['Experience'],axis=1)\n",
    "df_Final=df_Final.drop(['Experience2'],axis=1)"
   ]
  },
  {
   "cell_type": "code",
   "execution_count": 20,
   "metadata": {},
   "outputs": [],
   "source": [
    "df_Final['Experience1']=df_Final['Experience1'].astype(int)"
   ]
  },
  {
   "cell_type": "code",
   "execution_count": 21,
   "metadata": {},
   "outputs": [],
   "source": [
    "df_Final['Place1']=df_Final['Place'].str.split(',').str[0]\n",
    "df_Final['Place2']=df_Final['Place'].str.split(',').str[1]"
   ]
  },
  {
   "cell_type": "code",
   "execution_count": 22,
   "metadata": {},
   "outputs": [],
   "source": [
    "df_Final=df_Final.drop(['Place'],axis=1)"
   ]
  },
  {
   "cell_type": "markdown",
   "metadata": {},
   "source": [
    "CHECKING DATA TYPES"
   ]
  },
  {
   "cell_type": "code",
   "execution_count": 23,
   "metadata": {},
   "outputs": [
    {
     "data": {
      "text/plain": [
       "Rating            int32\n",
       "Profile        category\n",
       "Fees            float64\n",
       "MBBS             object\n",
       "BDS              object\n",
       "MD               object\n",
       "MS               object\n",
       "LCEH             object\n",
       "DDVL             object\n",
       "BAMS             object\n",
       "BSAM             object\n",
       "BHMS             object\n",
       "DHMS             object\n",
       "DNB              object\n",
       "Get              object\n",
       "Experience1       int32\n",
       "Place1           object\n",
       "Place2           object\n",
       "dtype: object"
      ]
     },
     "execution_count": 23,
     "metadata": {},
     "output_type": "execute_result"
    }
   ],
   "source": [
    "df_Final.dtypes"
   ]
  },
  {
   "cell_type": "code",
   "execution_count": 24,
   "metadata": {},
   "outputs": [],
   "source": [
    "from sklearn.preprocessing import LabelEncoder\n",
    "LE=LabelEncoder()\n",
    "df_Final[\"Profile\"]=LE.fit_transform(df_Final['Profile'])\n",
    "df_Final[\"MBBS\"]=LE.fit_transform(df_Final['MBBS'])\n",
    "df_Final[\"Place2\"]=LE.fit_transform(df_Final['Place2'])\n",
    "df_Final[\"BDS\"]=LE.fit_transform(df_Final['BDS'])\n",
    "df_Final[\"MD\"]=LE.fit_transform(df_Final['MD'])\n",
    "df_Final[\"Get\"]=LE.fit_transform(df_Final['Get'])\n",
    "df_Final[\"MS\"]=LE.fit_transform(df_Final['MS'])\n",
    "df_Final[\"LCEH\"]=LE.fit_transform(df_Final['LCEH'])\n",
    "df_Final[\"DDVL\"]=LE.fit_transform(df_Final['DDVL'])\n",
    "df_Final[\"BAMS\"]=LE.fit_transform(df_Final['BAMS'])\n",
    "df_Final[\"BSAM\"]=LE.fit_transform(df_Final['BSAM'])\n",
    "df_Final[\"BHMS\"]=LE.fit_transform(df_Final['BHMS'])\n",
    "df_Final[\"DHMS\"]=LE.fit_transform(df_Final['DHMS'])\n",
    "df_Final[\"DNB\"]=LE.fit_transform(df_Final['DNB'])\n",
    "df_Final[\"Place1\"]=LE.fit_transform(df_Final['Place1'])"
   ]
  },
  {
   "cell_type": "code",
   "execution_count": 25,
   "metadata": {},
   "outputs": [
    {
     "data": {
      "text/plain": [
       "Rating           int32\n",
       "Profile          int32\n",
       "Fees           float64\n",
       "MBBS             int32\n",
       "BDS              int32\n",
       "MD               int32\n",
       "MS               int32\n",
       "LCEH             int32\n",
       "DDVL             int32\n",
       "BAMS             int32\n",
       "BSAM             int32\n",
       "BHMS             int32\n",
       "DHMS             int32\n",
       "DNB              int32\n",
       "Get              int32\n",
       "Experience1      int32\n",
       "Place1           int32\n",
       "Place2           int32\n",
       "dtype: object"
      ]
     },
     "execution_count": 25,
     "metadata": {},
     "output_type": "execute_result"
    }
   ],
   "source": [
    "df_Final.dtypes"
   ]
  },
  {
   "cell_type": "markdown",
   "metadata": {},
   "source": [
    "SCALING THE DATA"
   ]
  },
  {
   "cell_type": "code",
   "execution_count": 26,
   "metadata": {},
   "outputs": [
    {
     "name": "stdout",
     "output_type": "stream",
     "text": [
      "[[1.         1.         0.1005291  ... 0.36363636 0.34578442 0.44444444]\n",
      " [0.98       0.         0.36507937 ... 0.18181818 0.98719317 0.        ]\n",
      " [0.         0.6        0.31216931 ... 0.13636364 0.52721451 0.        ]\n",
      " ...\n",
      " [0.         0.8        0.32057634 ... 0.13636364 0.7022412  0.11111111]\n",
      " [0.98       0.2        0.32057634 ... 0.18181818 0.03628602 0.        ]\n",
      " [0.         0.4        0.32057634 ... 0.12121212 0.64781217 0.11111111]]\n"
     ]
    }
   ],
   "source": [
    "from sklearn.preprocessing import MinMaxScaler\n",
    "mms=MinMaxScaler()\n",
    "scaled = mms.fit_transform(df_Final)\n",
    "print(scaled)"
   ]
  },
  {
   "cell_type": "markdown",
   "metadata": {},
   "source": [
    "SPLITTING INTO X AND Y"
   ]
  },
  {
   "cell_type": "code",
   "execution_count": 29,
   "metadata": {},
   "outputs": [],
   "source": [
    "df_train=df_Final[0:5961]\n",
    "df_test=df_Final[5961:]"
   ]
  },
  {
   "cell_type": "code",
   "execution_count": 30,
   "metadata": {},
   "outputs": [],
   "source": [
    "x=df_train.drop([\"Fees\"],axis=1)\n",
    "y=df_train[\"Fees\"]"
   ]
  },
  {
   "cell_type": "code",
   "execution_count": 31,
   "metadata": {},
   "outputs": [
    {
     "data": {
      "text/html": [
       "<div>\n",
       "<style scoped>\n",
       "    .dataframe tbody tr th:only-of-type {\n",
       "        vertical-align: middle;\n",
       "    }\n",
       "\n",
       "    .dataframe tbody tr th {\n",
       "        vertical-align: top;\n",
       "    }\n",
       "\n",
       "    .dataframe thead th {\n",
       "        text-align: right;\n",
       "    }\n",
       "</style>\n",
       "<table border=\"1\" class=\"dataframe\">\n",
       "  <thead>\n",
       "    <tr style=\"text-align: right;\">\n",
       "      <th></th>\n",
       "      <th>Rating</th>\n",
       "      <th>Profile</th>\n",
       "      <th>MBBS</th>\n",
       "      <th>BDS</th>\n",
       "      <th>MD</th>\n",
       "      <th>MS</th>\n",
       "      <th>LCEH</th>\n",
       "      <th>DDVL</th>\n",
       "      <th>BAMS</th>\n",
       "      <th>BSAM</th>\n",
       "      <th>BHMS</th>\n",
       "      <th>DHMS</th>\n",
       "      <th>DNB</th>\n",
       "      <th>Get</th>\n",
       "      <th>Experience1</th>\n",
       "      <th>Place1</th>\n",
       "      <th>Place2</th>\n",
       "    </tr>\n",
       "  </thead>\n",
       "  <tbody>\n",
       "    <tr>\n",
       "      <th>0</th>\n",
       "      <td>100</td>\n",
       "      <td>5</td>\n",
       "      <td>1</td>\n",
       "      <td>1</td>\n",
       "      <td>0</td>\n",
       "      <td>0</td>\n",
       "      <td>1</td>\n",
       "      <td>1</td>\n",
       "      <td>1</td>\n",
       "      <td>1</td>\n",
       "      <td>0</td>\n",
       "      <td>1</td>\n",
       "      <td>1</td>\n",
       "      <td>1</td>\n",
       "      <td>24</td>\n",
       "      <td>324</td>\n",
       "      <td>4</td>\n",
       "    </tr>\n",
       "    <tr>\n",
       "      <th>1</th>\n",
       "      <td>98</td>\n",
       "      <td>0</td>\n",
       "      <td>1</td>\n",
       "      <td>1</td>\n",
       "      <td>0</td>\n",
       "      <td>0</td>\n",
       "      <td>1</td>\n",
       "      <td>1</td>\n",
       "      <td>0</td>\n",
       "      <td>1</td>\n",
       "      <td>1</td>\n",
       "      <td>1</td>\n",
       "      <td>1</td>\n",
       "      <td>1</td>\n",
       "      <td>12</td>\n",
       "      <td>925</td>\n",
       "      <td>0</td>\n",
       "    </tr>\n",
       "    <tr>\n",
       "      <th>2</th>\n",
       "      <td>0</td>\n",
       "      <td>3</td>\n",
       "      <td>0</td>\n",
       "      <td>1</td>\n",
       "      <td>1</td>\n",
       "      <td>0</td>\n",
       "      <td>1</td>\n",
       "      <td>1</td>\n",
       "      <td>1</td>\n",
       "      <td>1</td>\n",
       "      <td>1</td>\n",
       "      <td>1</td>\n",
       "      <td>1</td>\n",
       "      <td>1</td>\n",
       "      <td>9</td>\n",
       "      <td>494</td>\n",
       "      <td>0</td>\n",
       "    </tr>\n",
       "    <tr>\n",
       "      <th>3</th>\n",
       "      <td>0</td>\n",
       "      <td>0</td>\n",
       "      <td>1</td>\n",
       "      <td>1</td>\n",
       "      <td>1</td>\n",
       "      <td>0</td>\n",
       "      <td>1</td>\n",
       "      <td>1</td>\n",
       "      <td>0</td>\n",
       "      <td>1</td>\n",
       "      <td>1</td>\n",
       "      <td>1</td>\n",
       "      <td>1</td>\n",
       "      <td>1</td>\n",
       "      <td>12</td>\n",
       "      <td>74</td>\n",
       "      <td>0</td>\n",
       "    </tr>\n",
       "    <tr>\n",
       "      <th>4</th>\n",
       "      <td>100</td>\n",
       "      <td>0</td>\n",
       "      <td>1</td>\n",
       "      <td>1</td>\n",
       "      <td>1</td>\n",
       "      <td>0</td>\n",
       "      <td>1</td>\n",
       "      <td>1</td>\n",
       "      <td>0</td>\n",
       "      <td>1</td>\n",
       "      <td>1</td>\n",
       "      <td>1</td>\n",
       "      <td>1</td>\n",
       "      <td>1</td>\n",
       "      <td>20</td>\n",
       "      <td>367</td>\n",
       "      <td>1</td>\n",
       "    </tr>\n",
       "  </tbody>\n",
       "</table>\n",
       "</div>"
      ],
      "text/plain": [
       "   Rating  Profile  MBBS  BDS  MD  MS  LCEH  DDVL  BAMS  BSAM  BHMS  DHMS  \\\n",
       "0     100        5     1    1   0   0     1     1     1     1     0     1   \n",
       "1      98        0     1    1   0   0     1     1     0     1     1     1   \n",
       "2       0        3     0    1   1   0     1     1     1     1     1     1   \n",
       "3       0        0     1    1   1   0     1     1     0     1     1     1   \n",
       "4     100        0     1    1   1   0     1     1     0     1     1     1   \n",
       "\n",
       "   DNB  Get  Experience1  Place1  Place2  \n",
       "0    1    1           24     324       4  \n",
       "1    1    1           12     925       0  \n",
       "2    1    1            9     494       0  \n",
       "3    1    1           12      74       0  \n",
       "4    1    1           20     367       1  "
      ]
     },
     "execution_count": 31,
     "metadata": {},
     "output_type": "execute_result"
    }
   ],
   "source": [
    "x.head()"
   ]
  },
  {
   "cell_type": "code",
   "execution_count": 32,
   "metadata": {},
   "outputs": [
    {
     "data": {
      "text/plain": [
       "0    100.0\n",
       "1    350.0\n",
       "2    300.0\n",
       "3    250.0\n",
       "4    250.0\n",
       "Name: Fees, dtype: float64"
      ]
     },
     "execution_count": 32,
     "metadata": {},
     "output_type": "execute_result"
    }
   ],
   "source": [
    "y.head()"
   ]
  },
  {
   "cell_type": "markdown",
   "metadata": {},
   "source": [
    "CHOOSING BEST RANDOM STATE BUILDING MODELS"
   ]
  },
  {
   "cell_type": "code",
   "execution_count": 33,
   "metadata": {},
   "outputs": [
    {
     "name": "stdout",
     "output_type": "stream",
     "text": [
      "at random state 0 the training accuracy is:-0.15264285778462594\n",
      "at random state 0 the testing accuracy is:-0.15367555524779586\n",
      "\n",
      "\n",
      "at random state 1 the training accuracy is:-0.15056990977882545\n",
      "at random state 1 the testing accuracy is:-0.16156386356014096\n",
      "\n",
      "\n",
      "at random state 2 the training accuracy is:-0.15813242004226546\n",
      "at random state 2 the testing accuracy is:-0.14563704000468503\n",
      "\n",
      "\n",
      "at random state 3 the training accuracy is:-0.16054803342972923\n",
      "at random state 3 the testing accuracy is:-0.13529126532818592\n",
      "\n",
      "\n",
      "at random state 4 the training accuracy is:-0.16429877406258775\n",
      "at random state 4 the testing accuracy is:-0.1335716267559237\n",
      "\n",
      "\n",
      "at random state 5 the training accuracy is:-0.15661314598662412\n",
      "at random state 5 the testing accuracy is:-0.1474086719051202\n",
      "\n",
      "\n",
      "at random state 6 the training accuracy is:-0.15466968190353092\n",
      "at random state 6 the testing accuracy is:-0.1512735418711162\n",
      "\n",
      "\n",
      "at random state 7 the training accuracy is:-0.17256607567425986\n",
      "at random state 7 the testing accuracy is:-0.10517457331025148\n",
      "\n",
      "\n",
      "at random state 8 the training accuracy is:-0.15830090288574195\n",
      "at random state 8 the testing accuracy is:-0.13824717144638798\n",
      "\n",
      "\n",
      "at random state 9 the training accuracy is:-0.16356359835249845\n",
      "at random state 9 the testing accuracy is:-0.13198440901297914\n",
      "\n",
      "\n",
      "at random state 10 the training accuracy is:-0.15410092234896855\n",
      "at random state 10 the testing accuracy is:-0.14872498565433612\n",
      "\n",
      "\n",
      "at random state 11 the training accuracy is:-0.1482062376038249\n",
      "at random state 11 the testing accuracy is:-0.1653178566546898\n",
      "\n",
      "\n",
      "at random state 12 the training accuracy is:-0.14796840066173045\n",
      "at random state 12 the testing accuracy is:-0.16553151771757502\n",
      "\n",
      "\n",
      "at random state 13 the training accuracy is:-0.15091878339530962\n",
      "at random state 13 the testing accuracy is:-0.1610096539510536\n",
      "\n",
      "\n",
      "at random state 14 the training accuracy is:-0.1717893991125896\n",
      "at random state 14 the testing accuracy is:-0.1176507734476614\n",
      "\n",
      "\n",
      "at random state 15 the training accuracy is:-0.15047684370709014\n",
      "at random state 15 the testing accuracy is:-0.15784616114253502\n",
      "\n",
      "\n",
      "at random state 16 the training accuracy is:-0.15857732669587243\n",
      "at random state 16 the testing accuracy is:-0.14307254872489383\n",
      "\n",
      "\n",
      "at random state 17 the training accuracy is:-0.1584069199430681\n",
      "at random state 17 the testing accuracy is:-0.14648812170656933\n",
      "\n",
      "\n",
      "at random state 18 the training accuracy is:-0.1636237633385872\n",
      "at random state 18 the testing accuracy is:-0.13447685145335253\n",
      "\n",
      "\n",
      "at random state 19 the training accuracy is:-0.16207767980605225\n",
      "at random state 19 the testing accuracy is:-0.13551037033664504\n",
      "\n",
      "\n",
      "at random state 20 the training accuracy is:-0.1520193548637302\n",
      "at random state 20 the testing accuracy is:-0.15810772639858595\n",
      "\n",
      "\n",
      "at random state 21 the training accuracy is:-0.15841893866981616\n",
      "at random state 21 the testing accuracy is:-0.14439669844139347\n",
      "\n",
      "\n",
      "at random state 22 the training accuracy is:-0.16416610197870096\n",
      "at random state 22 the testing accuracy is:-0.1303372568705663\n",
      "\n",
      "\n",
      "at random state 23 the training accuracy is:-0.15758000811390827\n",
      "at random state 23 the testing accuracy is:-0.14524172423781223\n",
      "\n",
      "\n",
      "at random state 24 the training accuracy is:-0.16594142742774431\n",
      "at random state 24 the testing accuracy is:-0.12939960794295502\n",
      "\n",
      "\n",
      "at random state 25 the training accuracy is:-0.14637975691938476\n",
      "at random state 25 the testing accuracy is:-0.16855052833513728\n",
      "\n",
      "\n",
      "at random state 26 the training accuracy is:-0.15509515765307624\n",
      "at random state 26 the testing accuracy is:-0.15143549042435944\n",
      "\n",
      "\n",
      "at random state 27 the training accuracy is:-0.1457682944545986\n",
      "at random state 27 the testing accuracy is:-0.1716757335546012\n",
      "\n",
      "\n",
      "at random state 28 the training accuracy is:-0.1609580302973893\n",
      "at random state 28 the testing accuracy is:-0.13871013268691934\n",
      "\n",
      "\n",
      "at random state 29 the training accuracy is:-0.160024008750567\n",
      "at random state 29 the testing accuracy is:-0.14127732045669827\n",
      "\n",
      "\n",
      "at random state 30 the training accuracy is:-0.14701579064079628\n",
      "at random state 30 the testing accuracy is:-0.16776358393324542\n",
      "\n",
      "\n",
      "at random state 31 the training accuracy is:-0.15293405540835459\n",
      "at random state 31 the testing accuracy is:-0.1548731455057768\n",
      "\n",
      "\n",
      "at random state 32 the training accuracy is:-0.16250486007552378\n",
      "at random state 32 the testing accuracy is:-0.13469048696059183\n",
      "\n",
      "\n",
      "at random state 33 the training accuracy is:-0.16031862660136853\n",
      "at random state 33 the testing accuracy is:-0.13888206213956233\n",
      "\n",
      "\n",
      "at random state 34 the training accuracy is:-0.1571123622029118\n",
      "at random state 34 the testing accuracy is:-0.14627669915285457\n",
      "\n",
      "\n",
      "at random state 35 the training accuracy is:-0.15195475214133358\n",
      "at random state 35 the testing accuracy is:-0.15824814212943306\n",
      "\n",
      "\n",
      "at random state 36 the training accuracy is:-0.14916689161102825\n",
      "at random state 36 the testing accuracy is:-0.16316274845856193\n",
      "\n",
      "\n",
      "at random state 37 the training accuracy is:-0.15748737257673906\n",
      "at random state 37 the testing accuracy is:-0.14650513569490775\n",
      "\n",
      "\n",
      "at random state 38 the training accuracy is:-0.1548346535905909\n",
      "at random state 38 the testing accuracy is:-0.15131506622202417\n",
      "\n",
      "\n",
      "at random state 39 the training accuracy is:-0.15295975954909014\n",
      "at random state 39 the testing accuracy is:-0.15313946108676268\n",
      "\n",
      "\n",
      "at random state 40 the training accuracy is:-0.1607879120972343\n",
      "at random state 40 the testing accuracy is:-0.13943008054850414\n",
      "\n",
      "\n",
      "at random state 41 the training accuracy is:-0.15097699306655676\n",
      "at random state 41 the testing accuracy is:-0.15973731591298612\n",
      "\n",
      "\n",
      "at random state 42 the training accuracy is:-0.14191932529601647\n",
      "at random state 42 the testing accuracy is:-0.17675748881839415\n",
      "\n",
      "\n",
      "at random state 43 the training accuracy is:-0.1503086789851238\n",
      "at random state 43 the testing accuracy is:-0.16066876852715317\n",
      "\n",
      "\n",
      "at random state 44 the training accuracy is:-0.14940077397472995\n",
      "at random state 44 the testing accuracy is:-0.16238230744207094\n",
      "\n",
      "\n",
      "at random state 45 the training accuracy is:-0.1587290571637916\n",
      "at random state 45 the testing accuracy is:-0.1430342422779085\n",
      "\n",
      "\n",
      "at random state 46 the training accuracy is:-0.15844624647428351\n",
      "at random state 46 the testing accuracy is:-0.1460738240149596\n",
      "\n",
      "\n",
      "at random state 47 the training accuracy is:-0.15951717742265825\n",
      "at random state 47 the testing accuracy is:-0.14400703554120553\n",
      "\n",
      "\n",
      "at random state 48 the training accuracy is:-0.15342732999245712\n",
      "at random state 48 the testing accuracy is:-0.15544291394243692\n",
      "\n",
      "\n",
      "at random state 49 the training accuracy is:-0.15907503495316522\n",
      "at random state 49 the testing accuracy is:-0.14256840506346047\n",
      "\n",
      "\n",
      "at random state 50 the training accuracy is:-0.16176792822654162\n",
      "at random state 50 the testing accuracy is:-0.1379130683481451\n",
      "\n",
      "\n",
      "at random state 51 the training accuracy is:-0.15280463660536348\n",
      "at random state 51 the testing accuracy is:-0.1558410381511386\n",
      "\n",
      "\n",
      "at random state 52 the training accuracy is:-0.16781461420508215\n",
      "at random state 52 the testing accuracy is:-0.12592163613200924\n",
      "\n",
      "\n",
      "at random state 53 the training accuracy is:-0.15472508305852983\n",
      "at random state 53 the testing accuracy is:-0.1530141231895592\n",
      "\n",
      "\n",
      "at random state 54 the training accuracy is:-0.15671814871752254\n",
      "at random state 54 the testing accuracy is:-0.14475096097783735\n",
      "\n",
      "\n",
      "at random state 55 the training accuracy is:-0.1524434587195429\n",
      "at random state 55 the testing accuracy is:-0.15657317300398277\n",
      "\n",
      "\n",
      "at random state 56 the training accuracy is:-0.15273992277963533\n",
      "at random state 56 the testing accuracy is:-0.15787269554161454\n",
      "\n",
      "\n",
      "at random state 57 the training accuracy is:-0.14872637307567005\n",
      "at random state 57 the testing accuracy is:-0.16469078543312243\n",
      "\n",
      "\n",
      "at random state 58 the training accuracy is:-0.1668077717197094\n",
      "at random state 58 the testing accuracy is:-0.12533064199431587\n",
      "\n",
      "\n",
      "at random state 59 the training accuracy is:-0.15067987199638966\n",
      "at random state 59 the testing accuracy is:-0.15716378884707283\n",
      "\n",
      "\n",
      "at random state 60 the training accuracy is:-0.15651299093271775\n",
      "at random state 60 the testing accuracy is:-0.1459402903597281\n",
      "\n",
      "\n",
      "at random state 61 the training accuracy is:-0.16794966559814417\n",
      "at random state 61 the testing accuracy is:-0.12220160140048808\n",
      "\n",
      "\n",
      "at random state 62 the training accuracy is:-0.15768207104349163\n",
      "at random state 62 the testing accuracy is:-0.1460976624386131\n",
      "\n",
      "\n",
      "at random state 63 the training accuracy is:-0.15371022861364092\n",
      "at random state 63 the testing accuracy is:-0.15507606586542655\n",
      "\n",
      "\n",
      "at random state 64 the training accuracy is:-0.15592629869302843\n",
      "at random state 64 the testing accuracy is:-0.14984792760601418\n",
      "\n",
      "\n",
      "at random state 65 the training accuracy is:-0.1552826433360116\n",
      "at random state 65 the testing accuracy is:-0.15153905650728083\n",
      "\n",
      "\n",
      "at random state 66 the training accuracy is:-0.15365235990342907\n",
      "at random state 66 the testing accuracy is:-0.15423478839535665\n",
      "\n",
      "\n",
      "at random state 67 the training accuracy is:-0.16273199324431808\n",
      "at random state 67 the testing accuracy is:-0.13575644509470908\n",
      "\n",
      "\n",
      "at random state 68 the training accuracy is:-0.14902583968561134\n",
      "at random state 68 the testing accuracy is:-0.16343468391910798\n",
      "\n",
      "\n",
      "at random state 69 the training accuracy is:-0.15300390998247104\n",
      "at random state 69 the testing accuracy is:-0.1560842143105411\n",
      "\n",
      "\n",
      "at random state 70 the training accuracy is:-0.15258009587455001\n",
      "at random state 70 the testing accuracy is:-0.1555183893459856\n",
      "\n",
      "\n",
      "at random state 71 the training accuracy is:-0.15840967301427045\n",
      "at random state 71 the testing accuracy is:-0.1402253014514364\n",
      "\n",
      "\n",
      "at random state 72 the training accuracy is:-0.1636993574942076\n",
      "at random state 72 the testing accuracy is:-0.13327921636040974\n",
      "\n",
      "\n",
      "at random state 73 the training accuracy is:-0.14969775656117756\n",
      "at random state 73 the testing accuracy is:-0.16267698169519762\n",
      "\n",
      "\n",
      "at random state 74 the training accuracy is:-0.152263128165677\n",
      "at random state 74 the testing accuracy is:-0.15587930716423615\n",
      "\n",
      "\n",
      "at random state 75 the training accuracy is:-0.15669673522192973\n",
      "at random state 75 the testing accuracy is:-0.1495643237967058\n",
      "\n",
      "\n",
      "at random state 76 the training accuracy is:-0.15025422433490454\n",
      "at random state 76 the testing accuracy is:-0.16087890199155663\n",
      "\n",
      "\n",
      "at random state 77 the training accuracy is:-0.15429546674878736\n",
      "at random state 77 the testing accuracy is:-0.15341390191214377\n",
      "\n",
      "\n",
      "at random state 78 the training accuracy is:-0.15319949912046038\n",
      "at random state 78 the testing accuracy is:-0.1549719264938112\n",
      "\n",
      "\n",
      "at random state 79 the training accuracy is:-0.16495494340849914\n",
      "at random state 79 the testing accuracy is:-0.12956534041691126\n",
      "\n",
      "\n",
      "at random state 80 the training accuracy is:-0.15616188718155743\n",
      "at random state 80 the testing accuracy is:-0.1497600922062049\n",
      "\n",
      "\n",
      "at random state 81 the training accuracy is:-0.15228992506647276\n",
      "at random state 81 the testing accuracy is:-0.15527278865027505\n",
      "\n",
      "\n",
      "at random state 82 the training accuracy is:-0.1483130658621591\n",
      "at random state 82 the testing accuracy is:-0.16649187511407681\n",
      "\n",
      "\n",
      "at random state 83 the training accuracy is:-0.1473028180531265\n",
      "at random state 83 the testing accuracy is:-0.1660506884149242\n",
      "\n",
      "\n",
      "at random state 84 the training accuracy is:-0.14922445220448277\n",
      "at random state 84 the testing accuracy is:-0.1606877024397907\n",
      "\n",
      "\n",
      "at random state 85 the training accuracy is:-0.16580890612847154\n",
      "at random state 85 the testing accuracy is:-0.12885397933109022\n",
      "\n",
      "\n",
      "at random state 86 the training accuracy is:-0.15214189629778152\n",
      "at random state 86 the testing accuracy is:-0.15670229020550575\n",
      "\n",
      "\n",
      "at random state 87 the training accuracy is:-0.1529384046045027\n",
      "at random state 87 the testing accuracy is:-0.15167492039535335\n",
      "\n",
      "\n",
      "at random state 88 the training accuracy is:-0.15356501840239956\n",
      "at random state 88 the testing accuracy is:-0.15651759234088491\n",
      "\n",
      "\n",
      "at random state 89 the training accuracy is:-0.14222138268236795\n",
      "at random state 89 the testing accuracy is:-0.17551153869837732\n",
      "\n",
      "\n",
      "at random state 90 the training accuracy is:-0.1500002945866431\n",
      "at random state 90 the testing accuracy is:-0.1586930931297752\n",
      "\n",
      "\n",
      "at random state 91 the training accuracy is:-0.1617283782164538\n",
      "at random state 91 the testing accuracy is:-0.1329265498556037\n",
      "\n",
      "\n",
      "at random state 92 the training accuracy is:-0.1609320816265084\n",
      "at random state 92 the testing accuracy is:-0.14055244707128556\n",
      "\n",
      "\n",
      "at random state 93 the training accuracy is:-0.14962908971615763\n",
      "at random state 93 the testing accuracy is:-0.1611965342395989\n",
      "\n",
      "\n",
      "at random state 94 the training accuracy is:-0.15207769496026124\n",
      "at random state 94 the testing accuracy is:-0.1570594889782343\n",
      "\n",
      "\n",
      "at random state 95 the training accuracy is:-0.1578777666683111\n",
      "at random state 95 the testing accuracy is:-0.14313612763268246\n",
      "\n",
      "\n",
      "at random state 96 the training accuracy is:-0.15243316331491452\n",
      "at random state 96 the testing accuracy is:-0.15718373871443092\n",
      "\n",
      "\n",
      "at random state 97 the training accuracy is:-0.16072642930508474\n",
      "at random state 97 the testing accuracy is:-0.13858192325674323\n",
      "\n",
      "\n",
      "at random state 98 the training accuracy is:-0.15575725184076294\n",
      "at random state 98 the testing accuracy is:-0.14862732635608422\n",
      "\n",
      "\n",
      "at random state 99 the training accuracy is:-0.15585548785988046\n",
      "at random state 99 the testing accuracy is:-0.15088235762871804\n",
      "\n",
      "\n"
     ]
    }
   ],
   "source": [
    "from sklearn.linear_model import LinearRegression\n",
    "from sklearn.metrics import r2_score\n",
    "from sklearn.model_selection import train_test_split\n",
    "\n",
    "for i in range(0,100):\n",
    "    x_train, x_test,y_train,y_test = train_test_split(x, y, test_size=0.33, random_state=i)\n",
    "    lr=LinearRegression()\n",
    "    lr.fit(x_train,y_train)\n",
    "    pred_train=lr.predict(x_train)\n",
    "    pred_test=lr.predict(x_test)\n",
    "    print(f\"at random state {i} the training accuracy is:-{r2_score (y_train,pred_train)}\")\n",
    "    print(f\"at random state {i} the testing accuracy is:-{r2_score (y_test,pred_test)}\")\n",
    "    print(\"\\n\")"
   ]
  },
  {
   "cell_type": "code",
   "execution_count": 34,
   "metadata": {},
   "outputs": [],
   "source": [
    "x_train, x_test,y_train,y_test = train_test_split(x, y, test_size=0.33, random_state=56)"
   ]
  },
  {
   "cell_type": "code",
   "execution_count": 35,
   "metadata": {},
   "outputs": [
    {
     "data": {
      "text/plain": [
       "LinearRegression()"
      ]
     },
     "execution_count": 35,
     "metadata": {},
     "output_type": "execute_result"
    }
   ],
   "source": [
    "lr.fit(x_train,y_train)"
   ]
  },
  {
   "cell_type": "code",
   "execution_count": 36,
   "metadata": {},
   "outputs": [],
   "source": [
    "pred_test=lr.predict(x_test)"
   ]
  },
  {
   "cell_type": "code",
   "execution_count": 37,
   "metadata": {},
   "outputs": [
    {
     "name": "stdout",
     "output_type": "stream",
     "text": [
      "0.15787269554161454\n"
     ]
    }
   ],
   "source": [
    "print(r2_score (y_test,pred_test))"
   ]
  },
  {
   "cell_type": "markdown",
   "metadata": {},
   "source": [
    "LASSO REGULARIZATION"
   ]
  },
  {
   "cell_type": "code",
   "execution_count": 38,
   "metadata": {},
   "outputs": [
    {
     "name": "stdout",
     "output_type": "stream",
     "text": [
      "{'alpha': 0.0001, 'random_state': 0}\n"
     ]
    }
   ],
   "source": [
    "from sklearn.model_selection import GridSearchCV\n",
    "from sklearn.model_selection import cross_val_score\n",
    "\n",
    "from sklearn.linear_model import Lasso\n",
    "parameters = {'alpha':[.0001,.001,.01,.1,1,10],'random_state':(range(0,10))}\n",
    "ls= Lasso()\n",
    "clf = GridSearchCV(ls,parameters)\n",
    "clf.fit(x_train,y_train)\n",
    "print(clf.best_params_)"
   ]
  },
  {
   "cell_type": "code",
   "execution_count": 39,
   "metadata": {},
   "outputs": [
    {
     "data": {
      "text/plain": [
       "0.15787295823913594"
      ]
     },
     "execution_count": 39,
     "metadata": {},
     "output_type": "execute_result"
    }
   ],
   "source": [
    "ls = Lasso(alpha=0.0001,random_state=0)\n",
    "ls.fit(x_train,y_train)\n",
    "ls.score(x_train,y_train)\n",
    "pred_ls = ls.predict(x_test)\n",
    "lss = r2_score(y_test,pred_ls)\n",
    "lss"
   ]
  },
  {
   "cell_type": "markdown",
   "metadata": {},
   "source": [
    "RANDOM FOREST"
   ]
  },
  {
   "cell_type": "code",
   "execution_count": 40,
   "metadata": {},
   "outputs": [
    {
     "name": "stdout",
     "output_type": "stream",
     "text": [
      "{'criterion': 'mae', 'max_features': 'sqrt'}\n"
     ]
    }
   ],
   "source": [
    "from sklearn.model_selection import GridSearchCV\n",
    "from sklearn.ensemble import RandomForestRegressor\n",
    "parameters = {'criterion':['mse','mae'],'max_features':[\"auto\",\"sqrt\",\"log2\"]}\n",
    "rf = RandomForestRegressor()\n",
    "clf = GridSearchCV(rf,parameters)\n",
    "clf.fit(x_train,y_train)\n",
    "print(clf.best_params_)"
   ]
  },
  {
   "cell_type": "code",
   "execution_count": 41,
   "metadata": {},
   "outputs": [
    {
     "name": "stdout",
     "output_type": "stream",
     "text": [
      "R2 Score: 19.506689593503367\n",
      "Cross Val Score: 17.78229530651629\n"
     ]
    }
   ],
   "source": [
    "from sklearn.ensemble import RandomForestRegressor\n",
    "from sklearn.model_selection import cross_val_score\n",
    "from sklearn.metrics import r2_score\n",
    "rf = RandomForestRegressor(criterion=\"mae\",max_features=\"sqrt\")\n",
    "rf.fit(x_train,y_train)\n",
    "rf.score(x_train,y_train)\n",
    "pred_rf = rf.predict(x_test)\n",
    "rfs = r2_score(y_test,pred_rf)\n",
    "print('R2 Score:', rfs*100)\n",
    "rfscore = cross_val_score(rf,x,y,cv=5)\n",
    "rfc = rfscore.mean()\n",
    "print('Cross Val Score:',rfc*100)"
   ]
  },
  {
   "cell_type": "code",
   "execution_count": null,
   "metadata": {},
   "outputs": [],
   "source": []
  },
  {
   "cell_type": "markdown",
   "metadata": {},
   "source": [
    "SVR"
   ]
  },
  {
   "cell_type": "code",
   "execution_count": 42,
   "metadata": {},
   "outputs": [
    {
     "name": "stdout",
     "output_type": "stream",
     "text": [
      "R2 Score: 19.506689593503367\n",
      "Cross Val Score: 17.78229530651629\n"
     ]
    }
   ],
   "source": [
    "from sklearn.svm import SVR\n",
    "from sklearn.model_selection import cross_val_score\n",
    "from sklearn.metrics import r2_score\n",
    "sv = SVR()\n",
    "sv.fit(x_train,y_train)\n",
    "sv.score(x_train,y_train)\n",
    "pred_rf = rf.predict(x_test)\n",
    "svs = r2_score(y_test,pred_rf)\n",
    "print('R2 Score:', svs*100)\n",
    "svscore = cross_val_score(sv,x,y,cv=5)\n",
    "svc = svscore.mean()\n",
    "print('Cross Val Score:',rfc*100)"
   ]
  },
  {
   "cell_type": "markdown",
   "metadata": {},
   "source": [
    "we are getting R2score value 19% in both SVR and RANDOM FOREST MODEL"
   ]
  },
  {
   "cell_type": "code",
   "execution_count": null,
   "metadata": {},
   "outputs": [],
   "source": []
  }
 ],
 "metadata": {
  "kernelspec": {
   "display_name": "Python 3",
   "language": "python",
   "name": "python3"
  },
  "language_info": {
   "codemirror_mode": {
    "name": "ipython",
    "version": 3
   },
   "file_extension": ".py",
   "mimetype": "text/x-python",
   "name": "python",
   "nbconvert_exporter": "python",
   "pygments_lexer": "ipython3",
   "version": "3.7.6"
  }
 },
 "nbformat": 4,
 "nbformat_minor": 4
}
